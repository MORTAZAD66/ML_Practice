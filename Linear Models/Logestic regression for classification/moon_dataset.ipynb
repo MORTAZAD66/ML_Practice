{
 "cells": [
  {
   "cell_type": "markdown",
   "metadata": {},
   "source": [
    "#Classification with logistic regression"
   ]
  },
  {
   "cell_type": "code",
   "execution_count": null,
   "metadata": {},
   "outputs": [],
   "source": [
    "import matplotlib.pyplot as plt\n",
    "from sklearn.datasets import make_moons\n",
    "from sklearn.linear_model import LogisticRegression\n",
    "from plot_2d_separator import plot_2d_separator"
   ]
  },
  {
   "cell_type": "code",
   "execution_count": null,
   "metadata": {},
   "outputs": [],
   "source": [
    "# create random data\n",
    "X, y = make_moons(n_samples=800, noise=0.25, random_state=0)\n",
    "print(X.shape, y.shape)\n",
    "\n",
    "# plot data\n",
    "plt.figure()\n",
    "plt.scatter(X[:, 0], X[:, 1], c=y, alpha=0.5, edgecolors='k', cmap=plt.cm.coolwarm)\n",
    "plt.show()"
   ]
  },
  {
   "cell_type": "code",
   "execution_count": null,
   "metadata": {},
   "outputs": [],
   "source": [
    "degree = 5\n",
    "coeffs = [1e1, 1e2, 1e3, 1e4, 1e5, 1e6, 1e7, 1e10] #coeffs and lambda are in an inverse relation\n",
    "\n",
    "plt.figure()\n",
    "\n",
    "for C in coeffs:\n",
    "    # create logistic regression classifier\n",
    "    plt.subplot(2, 4, coeffs.index(C) + 1)\n",
    "    plt.tight_layout() # for more readability and arrangment of the subplots\n",
    "    poly_features = PolynomialFeatures(degree=degree, include_bias=False)\n",
    "    log_reg = LogisticRegression(C=C)\n",
    "    model = Pipeline([(\"poly_features\", poly_features), (\"logistic_regression\", log_reg)])\n",
    "    \n",
    "    # train classifier\n",
    "    model.fit(X, y)\n",
    "    accuracy = model.score(X, y)\n",
    "    \n",
    "    # plot classification results\n",
    "    plot_2d_separator(model, X, fill=True)\n",
    "    plt.scatter(X[:, 0], X[:, 1], s=15, c=y, alpha=0.5, edgecolors='k', cmap=plt.cm.coolwarm)\n",
    "    plt.title(\"C = {:.2e} ({:.2f}%)\".format(C, accuracy * 100), fontsize=10)\n",
    "\n",
    "plt.show()"
   ]
  }
 ],
 "metadata": {
  "language_info": {
   "name": "python"
  }
 },
 "nbformat": 4,
 "nbformat_minor": 2
}
