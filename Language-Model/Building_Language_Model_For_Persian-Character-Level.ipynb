{
 "cells": [
  {
   "cell_type": "markdown",
   "metadata": {
    "collapsed": true
   },
   "source": [
    "# Building Character Level Language Model"
   ]
  },
  {
   "cell_type": "markdown",
   "metadata": {
    "heading_collapsed": true
   },
   "source": [
    "## Introduction"
   ]
  },
  {
   "cell_type": "markdown",
   "metadata": {
    "hidden": true
   },
   "source": [
    "A **language model** assigns a probability to every sequence of words.\n",
    "\n",
    "$$P(w_1, w_2,\\dots, w_n)=P(w_1)P(w_2|w_1)P(w_3|w_1,w_2) \\times \\dots \\times P(w_n|w_1,w_2, \\dots, w_{n-1})$$"
   ]
  },
  {
   "cell_type": "markdown",
   "metadata": {
    "hidden": true
   },
   "source": [
    "### Applications"
   ]
  },
  {
   "cell_type": "markdown",
   "metadata": {
    "hidden": true
   },
   "source": [
    "- **Translation**: We can compare different orderings of words:\n",
    "<h6 align=\"center\">P(he likes apple) > P(apple likes he)</h6>\n",
    "<br>\n",
    "- **Speech Recognition**: We can choose words:\n",
    "<h6 align=\"center\">P(he likes apple) > P(apple licks he)</h6>"
   ]
  },
  {
   "cell_type": "markdown",
   "metadata": {},
   "source": [
    "## Libraries"
   ]
  },
  {
   "cell_type": "code",
   "execution_count": 6,
   "metadata": {
    "collapsed": true,
    "metadata": {}
   },
   "outputs": [],
   "source": [
    "%matplotlib inline\n",
    "%reload_ext autoreload\n",
    "%autoreload 2\n",
    "\n",
    "import os\n",
    "import sys\n",
    "import random\n",
    "import pickle\n",
    "\n",
    "import numpy as np\n",
    "import matplotlib.pyplot as plt\n",
    "from collections import Counter\n",
    "from tqdm import tqdm_notebook\n",
    "\n",
    "import torch\n",
    "import torch.nn as nn\n",
    "import torch.optim as optim\n",
    "from torch.autograd import Variable\n",
    "\n",
    "#from utils import *\n",
    "#from data_utils import Vocabulary\n",
    "#from train_utils import train\n",
    "\n",
    "from IPython.core.debugger import Pdb  ## DEBUGGING ##\n",
    "\n",
    "# setup\n",
    "plt.style.use('ggplot')\n",
    "plt.rcParams['figure.figsize'] = (12., 6.)\n",
    "pdb = Pdb()\n",
    "use_gpu = torch.cuda.is_available()"
   ]
  },
  {
   "cell_type": "markdown",
   "metadata": {},
   "source": [
    "Helper functions"
   ]
  },
  {
   "cell_type": "code",
   "execution_count": 7,
   "metadata": {
    "collapsed": true,
    "metadata": {}
   },
   "outputs": [],
   "source": [
    "def plot_loss(trn_hist, val_hist):\n",
    "    plt.plot(trn_hist, label='Training Loss')\n",
    "    plt.plot(val_hist, label='Validation Loss')\n",
    "    plt.legend()\n",
    "    plt.xlabel('Epoch')\n",
    "    plt.ylabel('Loss')\n",
    "    plt.show()"
   ]
  },
  {
   "cell_type": "code",
   "execution_count": 8,
   "metadata": {
    "metadata": {}
   },
   "outputs": [
    {
     "name": "stderr",
     "output_type": "stream",
     "text": [
      "<>:27: SyntaxWarning: invalid escape sequence '\\u'\n",
      "<>:31: SyntaxWarning: invalid escape sequence '\\.'\n",
      "<>:35: SyntaxWarning: invalid escape sequence '\\.'\n",
      "<>:27: SyntaxWarning: invalid escape sequence '\\u'\n",
      "<>:31: SyntaxWarning: invalid escape sequence '\\.'\n",
      "<>:35: SyntaxWarning: invalid escape sequence '\\.'\n",
      "/tmp/ipykernel_1830388/2014688387.py:27: SyntaxWarning: invalid escape sequence '\\u'\n",
      "  text = re.sub(b'\\u200c'.decode(\"utf-8\", \"strict\"), \" \", text)   # replace half-spaces with spaces\n",
      "/tmp/ipykernel_1830388/2014688387.py:31: SyntaxWarning: invalid escape sequence '\\.'\n",
      "  text = re.sub('\\.', ' .', text)\n",
      "/tmp/ipykernel_1830388/2014688387.py:35: SyntaxWarning: invalid escape sequence '\\.'\n",
      "  text = re.sub('\\. \\. \\.', '...', text)\n"
     ]
    }
   ],
   "source": [
    "## Helper Functions\n",
    "import re\n",
    "import spacy\n",
    "import torch\n",
    "from torch.autograd import Variable\n",
    "\n",
    "\n",
    "NLP = spacy.load('en_core_web_sm')\n",
    "\n",
    "\n",
    "def to_var(x, volatile=False):\n",
    "    if torch.cuda.is_available():\n",
    "        x = x.cuda()\n",
    "    return Variable(x, volatile=volatile)\n",
    "\n",
    "\n",
    "def detach(x):\n",
    "    \"\"\"Wraps hidden states in new tensors, detaching them from their history.\"\"\"\n",
    "    if isinstance(x, torch.Tensor):\n",
    "        return x.detach()\n",
    "    else:\n",
    "        return tuple(detach(v) for v in x)\n",
    "\n",
    "    \n",
    "    \n",
    "def tokenizer(text):\n",
    "    text = re.sub(b'\\u200c'.decode(\"utf-8\", \"strict\"), \" \", text)   # replace half-spaces with spaces\n",
    "    text = re.sub('\\n', ' ', text)\n",
    "    text = re.sub('-', ' - ', text)\n",
    "    text = re.sub('[ ]+', ' ', text)\n",
    "    text = re.sub('\\.', ' .', text)\n",
    "    text = re.sub('\\،', ' ،', text)\n",
    "    text = re.sub('\\؛', ' ؛', text)\n",
    "    text = re.sub('\\؟', ' ؟', text)\n",
    "    text = re.sub('\\. \\. \\.', '...', text)\n",
    "    \n",
    "    return [w.text for w in NLP.tokenizer(str(text))]\n",
    "\n",
    "class Vocabulary(object):\n",
    "    \n",
    "    def __init__(self):\n",
    "        self.word2index = {}\n",
    "        self.index2word = {}\n",
    "        self.word2count = {}\n",
    "        self.num_words = 0\n",
    "        \n",
    "    def add_word(self, word):\n",
    "        if not word in self.word2index:\n",
    "            self.word2index[word] = self.num_words\n",
    "            self.word2count[word] = 1\n",
    "            self.index2word[self.num_words] = word\n",
    "            self.num_words += 1\n",
    "        else:\n",
    "            self.word2count[word] += 1\n",
    "        \n",
    "    def add_words(self, words):\n",
    "        for word in words:\n",
    "            self.add_word(word)\n",
    "    \n",
    "    def __len__(self):\n",
    "        return self.num_words\n",
    "    \n",
    "    "
   ]
  },
  {
   "cell_type": "code",
   "execution_count": 27,
   "metadata": {
    "metadata": {}
   },
   "outputs": [],
   "source": [
    "def train_epoch(epoch, model, trn_ids, \n",
    "                criterion, optimizer, scheduler, \n",
    "                num_epochs, batch_size, seq_length):\n",
    "    \n",
    "    model.train()\n",
    "    scheduler.step()\n",
    "    states = model.init_hidden(batch_size)\n",
    "    num_batches = trn_ids.size(1) // seq_length    \n",
    "    trn_loss = 0.0\n",
    "    trn_acc = 0.0\n",
    "    \n",
    "    for i in range(0, trn_ids.size(1) - seq_length, seq_length):\n",
    "        inputs = to_var(trn_ids[:, i: i + seq_length])\n",
    "        targets = to_var(trn_ids[:, (i + 1): (i + 1) + seq_length].contiguous())\n",
    "                \n",
    "        # Forward\n",
    "        states = detach(states)\n",
    "        outputs, states = model(inputs, states)\n",
    "        \n",
    "        # accuracy\n",
    "        _, predictions = torch.max(outputs, dim=1)\n",
    "        acc = torch.mean((predictions == targets.view(-1)).float())\n",
    "        trn_acc = (trn_acc * i + acc.item()) / (i + 1) \n",
    "        \n",
    "        # loss\n",
    "        loss = criterion(outputs, targets.view(-1))\n",
    "        trn_loss = (trn_loss * i + loss.item()) / (i + 1)  \n",
    "        \n",
    "        # backward\n",
    "        optimizer.zero_grad()\n",
    "        loss.backward()\n",
    "        torch.nn.utils.clip_grad_norm(model.parameters(), 0.3)\n",
    "        optimizer.step()\n",
    "        \n",
    "        # report\n",
    "        step = (i + 1) // seq_length\n",
    "        sys.stdout.flush()\n",
    "        sys.stdout.write('\\rTraining: Epoch [%d/%d], Step [%d/%d], Loss: %.3f, Perp: %.2f, Acc: %-15.2f' % \n",
    "              (epoch + 1, num_epochs, step + 1, num_batches, trn_loss, np.exp(trn_loss), trn_acc))\n",
    "    \n",
    "    return trn_loss\n",
    "\n",
    "\n",
    "def validate_epoch(epoch, model, val_ids, criterion, \n",
    "                   num_epochs, batch_size, seq_length):\n",
    "    \n",
    "    model.eval()\n",
    "    states = model.init_hidden(batch_size)\n",
    "    num_batches = val_ids.size(1) // seq_length        \n",
    "    val_loss = 0.0\n",
    "    val_acc = 0.0\n",
    "    \n",
    "    for i in range(0, val_ids.size(1) - seq_length, seq_length):\n",
    "        inputs = to_var(val_ids[:, i: i + seq_length], volatile=True)\n",
    "        targets = to_var(val_ids[:, (i + 1): (i + 1) + seq_length].contiguous())\n",
    "                \n",
    "        # Forward\n",
    "        states = detach(states)\n",
    "        outputs, states = model(inputs, states)\n",
    "        \n",
    "        # accuracy\n",
    "        _, predictions = torch.max(outputs, dim=1)\n",
    "        acc = torch.mean((predictions == targets.view(-1)).float())\n",
    "        val_acc = (val_acc * i + acc.item()) / (i + 1) \n",
    "        \n",
    "        # loss\n",
    "        loss = criterion(outputs, targets.view(-1))\n",
    "        val_loss = (val_loss * i + loss.item()) / (i + 1)  \n",
    "                \n",
    "        # report\n",
    "        step = (i + 1) // seq_length\n",
    "        sys.stdout.flush()\n",
    "        sys.stdout.write('\\rValidation: Epoch [%d/%d], Step [%d/%d], Loss: %.3f, Perp: %.2f, Acc: %-15.2f' % \n",
    "              (epoch + 1, num_epochs, step + 1, num_batches, val_loss, np.exp(val_loss), val_acc))\n",
    "        \n",
    "    return val_loss\n",
    "\n",
    "\n",
    "def train(model, trn_ids, val_ids, \n",
    "          criterion, optimizer, scheduler, \n",
    "          num_epochs, batch_size, seq_length):\n",
    "    \n",
    "    best_loss = float('Inf')\n",
    "    best_wgts = None\n",
    "    \n",
    "    trn_hist, val_hist = [], []\n",
    "\n",
    "    for epoch in range(num_epochs):\n",
    "\n",
    "        trn_loss = train_epoch(epoch, model, trn_ids, \n",
    "                               criterion, optimizer, scheduler, \n",
    "                               num_epochs, batch_size,  seq_length)\n",
    "        \n",
    "        val_loss = validate_epoch(epoch, model, val_ids, criterion, \n",
    "                                  num_epochs, batch_size, seq_length)\n",
    "        \n",
    "        trn_hist.append(trn_loss)\n",
    "        val_hist.append(val_loss)\n",
    "\n",
    "        if val_loss < best_loss:\n",
    "            best_loss = val_loss\n",
    "            best_wgts = model.state_dict().copy()\n",
    "            model.save(epoch, val_loss)\n",
    "    \n",
    "    # load best model weights\n",
    "    model.load_state_dict(best_wgts)\n",
    "    return trn_hist, val_hist"
   ]
  },
  {
   "cell_type": "markdown",
   "metadata": {},
   "source": [
    "## Data"
   ]
  },
  {
   "cell_type": "code",
   "execution_count": 16,
   "metadata": {
    "collapsed": true,
    "metadata": {}
   },
   "outputs": [],
   "source": [
    "data_dir = '/mnt/home/mnikzad/ML_Practice/Language-Model/data'\n",
    "train_data = f'{data_dir}/fa.ghomshei.txt'\n",
    "\n",
    "output_dir = f'{data_dir}/char/models'\n",
    "if not os.path.exists(output_dir):\n",
    "    os.makedirs(output_dir, exist_ok=True)"
   ]
  },
  {
   "cell_type": "markdown",
   "metadata": {},
   "source": [
    "### Statistics"
   ]
  },
  {
   "cell_type": "code",
   "execution_count": 12,
   "metadata": {
    "collapsed": true,
    "metadata": {}
   },
   "outputs": [],
   "source": [
    "def cal_stats(corpus_path):\n",
    "    # collect the number of tokens used in each sentence of the corpus in a list\n",
    "    lengths = [len(s) for s in open(corpus_path, encoding='utf8').read().split('\\n')]\n",
    "    \n",
    "    # compute stats\n",
    "    total = sum(lengths)\n",
    "    mean = np.mean(lengths)\n",
    "    std = np.std(lengths)\n",
    "    \n",
    "    # print stats\n",
    "    print('Total characters in the corpus = {}\\n'.format(total))\n",
    "    print('Mean = {:.2f}'.format(mean))\n",
    "    print('Std  = {:.2f}'.format(std))\n",
    "    print('95% confidence interval = [{:.2f}, {:.2f}]'.format(mean-2*std, mean+2*std))\n",
    "    \n",
    "    # plot histogram\n",
    "    plt.hist(lengths, bins=20)\n",
    "    plt.show()"
   ]
  },
  {
   "cell_type": "code",
   "execution_count": 17,
   "metadata": {
    "metadata": {}
   },
   "outputs": [
    {
     "name": "stdout",
     "output_type": "stream",
     "text": [
      "Total characters in the corpus = 870258\n",
      "\n",
      "Mean = 139.24\n",
      "Std  = 98.89\n",
      "95% confidence interval = [-58.54, 337.02]\n"
     ]
    },
    {
     "data": {
      "image/png": "[encoded data removed]",
      "text/plain": [
       "<Figure size 1200x600 with 1 Axes>"
      ]
     },
     "metadata": {},
     "output_type": "display_data"
    }
   ],
   "source": [
    "cal_stats(train_data)"
   ]
  },
  {
   "cell_type": "markdown",
   "metadata": {},
   "source": [
    "### Corpus"
   ]
  },
  {
   "cell_type": "code",
   "execution_count": 18,
   "metadata": {
    "collapsed": true,
    "metadata": {}
   },
   "outputs": [],
   "source": [
    "class Corpus(object):\n",
    "    \n",
    "    def __init__(self, corpus_path):\n",
    "        self.vocabulary = Vocabulary()\n",
    "        self.corpus_path = corpus_path\n",
    "        self.num_sentences = len([line for line in open(corpus_path, encoding='utf8')])\n",
    "    \n",
    "    def get_data(self, batch_size=20, split_ratio=0.2):\n",
    "        \n",
    "        # First pass: add words to the vocabulary\n",
    "        trn_tokens, val_tokens = [], []\n",
    "        with open(self.corpus_path, encoding='utf8') as f:\n",
    "            for line in tqdm_notebook(f, desc='Building Vocab...', total=self.num_sentences):\n",
    "                tokens = line\n",
    "                if len(line) <= 10: continue\n",
    "                if random.random() < split_ratio:\n",
    "                    val_tokens += tokens\n",
    "                else:\n",
    "                    trn_tokens += tokens\n",
    "        \n",
    "        counter = Counter(trn_tokens + val_tokens)        \n",
    "        vocabs = [(w, c) for (w, c) in counter.items()]\n",
    "        \n",
    "        for i, (word, count) in enumerate(sorted(vocabs, key=lambda x: x[1], reverse=True)):\n",
    "            self.vocabulary.word2index[word] = i\n",
    "            self.vocabulary.word2count[word] = count\n",
    "            self.vocabulary.index2word[i] = word\n",
    "            self.vocabulary.num_words += 1        \n",
    "        \n",
    "        # Second pass: Tokenize file content        \n",
    "        # train ids\n",
    "        trn_ids = torch.LongTensor(len(trn_tokens))\n",
    "        for idx, token in enumerate(trn_tokens):\n",
    "            trn_ids[idx] = self.vocabulary.word2index[token] \n",
    "        \n",
    "        # validation ids\n",
    "        val_ids = torch.LongTensor(len(val_tokens))\n",
    "        for idx, token in enumerate(val_tokens):\n",
    "            val_ids[idx] = self.vocabulary.word2index[token] \n",
    "        \n",
    "        num_batches = trn_ids.size(0) // batch_size\n",
    "        trn_ids = trn_ids[: num_batches * batch_size]\n",
    "        \n",
    "        num_batches = val_ids.size(0) // batch_size\n",
    "        val_ids = trn_ids[: num_batches * batch_size]\n",
    "\n",
    "        return trn_ids.view(batch_size, -1), val_ids.view(batch_size, -1)"
   ]
  },
  {
   "cell_type": "markdown",
   "metadata": {},
   "source": [
    "### Hyper-parameters"
   ]
  },
  {
   "cell_type": "code",
   "execution_count": 19,
   "metadata": {
    "collapsed": true,
    "metadata": {}
   },
   "outputs": [],
   "source": [
    "# LSTM hyper-parameters\n",
    "embed_size = 1500\n",
    "hidden_size = 1500\n",
    "num_layers = 2\n",
    "\n",
    "# Training hyper-parameters\n",
    "num_epochs = 40\n",
    "batch_size = 50\n",
    "seq_length = 150\n",
    "learning_rate = 0.001"
   ]
  },
  {
   "cell_type": "markdown",
   "metadata": {},
   "source": [
    "### Load Data"
   ]
  },
  {
   "cell_type": "code",
   "execution_count": 20,
   "metadata": {
    "metadata": {}
   },
   "outputs": [
    {
     "name": "stderr",
     "output_type": "stream",
     "text": [
      "/tmp/ipykernel_1830388/4087979219.py:13: TqdmDeprecationWarning: This function will be removed in tqdm==5.0.0\n",
      "Please use `tqdm.notebook.tqdm` instead of `tqdm.tqdm_notebook`\n",
      "  for line in tqdm_notebook(f, desc='Building Vocab...', total=self.num_sentences):\n"
     ]
    },
    {
     "data": {
      "application/vnd.jupyter.widget-view+json": {
       "model_id": "d3635267ca4045d2ad4cc69af4efe2f5",
       "version_major": 2,
       "version_minor": 0
      },
      "text/plain": [
       "Building Vocab...:   0%|          | 0/6249 [00:00<?, ?it/s]"
      ]
     },
     "metadata": {},
     "output_type": "display_data"
    }
   ],
   "source": [
    "corpus = Corpus(train_data)\n",
    "trn_ids, val_ids = corpus.get_data(batch_size)\n",
    "vocab_size = len(corpus.vocabulary)\n",
    "\n",
    "# save vocabs and ids\n",
    "pickle.dump(corpus.vocabulary, open(f'{output_dir}/vocab.pkl', 'wb'))\n",
    "np.save(f'{output_dir}/trn_ids.npy', trn_ids.view(-1).numpy())\n",
    "np.save(f'{output_dir}/val_ids.npy', val_ids.view(-1).numpy())"
   ]
  },
  {
   "cell_type": "code",
   "execution_count": 21,
   "metadata": {
    "metadata": {}
   },
   "outputs": [
    {
     "name": "stdout",
     "output_type": "stream",
     "text": [
      "100\n",
      "torch.Size([50, 14109])\n",
      "torch.Size([50, 3419])\n"
     ]
    }
   ],
   "source": [
    "vocab_size = len(corpus.vocabulary)\n",
    "print(vocab_size)\n",
    "print(trn_ids.size())\n",
    "print(val_ids.size())"
   ]
  },
  {
   "cell_type": "code",
   "execution_count": 22,
   "metadata": {
    "metadata": {}
   },
   "outputs": [
    {
     "name": "stdout",
     "output_type": "stream",
     "text": [
      "  183459\n",
      "ا 94377\n",
      "ن 53363\n",
      "ر 52954\n",
      "ی 51199\n",
      "د 50744\n",
      "و 43438\n",
      "ه 42701\n",
      "م 36849\n",
      "ب 30154\n",
      "ت 27292\n",
      "ک 22516\n",
      "س 17949\n",
      "ش 14869\n",
      "ز 14546\n",
      "خ 13575\n",
      "ل 12004\n",
      "آ 11975\n",
      "گ 10941\n",
      "ف 8676\n"
     ]
    }
   ],
   "source": [
    "most_commons = [(w, c) for (w, c) in corpus.vocabulary.word2count.items()][:20]\n",
    "\n",
    "for w, c in most_commons:\n",
    "    print(w, c)"
   ]
  },
  {
   "cell_type": "markdown",
   "metadata": {},
   "source": [
    "## LSTM For Language Modeling"
   ]
  },
  {
   "cell_type": "code",
   "execution_count": 24,
   "metadata": {
    "collapsed": true,
    "metadata": {}
   },
   "outputs": [],
   "source": [
    "class LSTM_LM(nn.Module):\n",
    "    def __init__(self, vocab_size, embed_size, hidden_size, num_layers=1, drop=0.35, tie=True):\n",
    "        super(LSTM_LM, self).__init__()\n",
    "        \n",
    "        if tie:\n",
    "            embed_size = hidden_size\n",
    "        \n",
    "        self.embed_size = embed_size\n",
    "        self.hidden_size = hidden_size\n",
    "        self.num_layers = num_layers\n",
    "            \n",
    "        self.dropout = nn.Dropout(drop)\n",
    "        self.embedding = nn.Embedding(vocab_size, embed_size)\n",
    "        self.lstm = nn.LSTM(embed_size, hidden_size, num_layers, batch_first=True, dropout=0.35)\n",
    "        self.fc = nn.Linear(hidden_size, vocab_size)\n",
    "        \n",
    "        if tie:\n",
    "            # Use the same weights both for embedding and classification\n",
    "            self.fc.weight.data = self.embedding.weight.data\n",
    "            \n",
    "        self.init_weights()\n",
    "        \n",
    "    def init_weights(self):\n",
    "        self.embedding.weight.data.uniform_(-0.1, 0.1)\n",
    "        self.fc.weight.data.uniform_(-0.1, 0.1)\n",
    "        self.fc.bias.data.fill_(0)\n",
    "        \n",
    "    def init_hidden(self, batch_size):\n",
    "        return (to_var(torch.zeros(self.num_layers, batch_size, self.hidden_size)),\n",
    "                to_var(torch.zeros(self.num_layers, batch_size, self.hidden_size)))\n",
    "        \n",
    "    def forward(self, x, hidden):\n",
    "        # embed word ids to vectors\n",
    "        x = self.embedding(x)\n",
    "        x = self.dropout(x)  # DROPOUT\n",
    "        \n",
    "        # forward RNN step\n",
    "        x, hidden = self.lstm(x, hidden)\n",
    "        x = self.dropout(x)  # DROPOUT\n",
    "        \n",
    "        # reshape output to (bs * seq_length, hidden_size)\n",
    "        x = x.contiguous().view(x.size(0) * x.size(1), x.size(2))\n",
    "        \n",
    "        # decode hidden states of all time steps\n",
    "        x = self.fc(x)\n",
    "        \n",
    "        return x, hidden\n",
    "    \n",
    "    def save(self, epoch, loss, save_to=output_dir):\n",
    "        if not os.path.exists(output_dir):\n",
    "            os.mkdir(output_dir)\n",
    "        filename = output_dir + '/lm-quran-char-epoch-{}-em-{}-hi-{}-nl-{}-{:.2f}-{:.2f}.pth'.format(\n",
    "            epoch, self.embed_size, self.hidden_size, self.num_layers, loss, np.exp(loss))\n",
    "        torch.save(self.state_dict(), filename)"
   ]
  },
  {
   "cell_type": "markdown",
   "metadata": {},
   "source": [
    "#### Tie Weights (Embedding and classification)"
   ]
  },
  {
   "cell_type": "markdown",
   "metadata": {},
   "source": [
    "<h6>Idea:</h6> Reuse Embeddings for Classification, which greatly reduces the number of trainable parameters:\n",
    "- [Tying Word Vectors and Word Classifiers: A Loss Framework for Language Modeling (Inan et al. 2016)](https://arxiv.org/pdf/1611.01462.pdf)"
   ]
  },
  {
   "cell_type": "markdown",
   "metadata": {},
   "source": [
    "### Define model"
   ]
  },
  {
   "cell_type": "code",
   "execution_count": 25,
   "metadata": {
    "collapsed": true,
    "metadata": {}
   },
   "outputs": [],
   "source": [
    "# model\n",
    "model = LSTM_LM(vocab_size, embed_size, hidden_size, num_layers, drop=0.65)\n",
    "if use_gpu:\n",
    "    model = model.cuda()\n",
    "\n",
    "# loss function\n",
    "criterion = nn.CrossEntropyLoss()\n",
    "if use_gpu:\n",
    "    criterion = criterion.cuda()\n",
    "    \n",
    "# optimizer\n",
    "optimizer = torch.optim.Adam(model.parameters(), lr=learning_rate)\n",
    "scheduler = optim.lr_scheduler.StepLR(optimizer, step_size=10, gamma=0.9)"
   ]
  },
  {
   "cell_type": "markdown",
   "metadata": {},
   "source": [
    "### Training"
   ]
  },
  {
   "cell_type": "code",
   "execution_count": 33,
   "metadata": {
    "metadata": {}
   },
   "outputs": [
    {
     "name": "stderr",
     "output_type": "stream",
     "text": [
      "/tmp/ipykernel_1830388/794121866.py:32: UserWarning: torch.nn.utils.clip_grad_norm is now deprecated in favor of torch.nn.utils.clip_grad_norm_.\n",
      "  torch.nn.utils.clip_grad_norm(model.parameters(), 0.3)\n"
     ]
    },
    {
     "name": "stdout",
     "output_type": "stream",
     "text": [
      "Training: Epoch [1/10], Step [94/94], Loss: 0.441, Perp: 1.56, Acc: 0.86           "
     ]
    },
    {
     "name": "stderr",
     "output_type": "stream",
     "text": [
      "/tmp/ipykernel_1830388/2014688387.py:14: UserWarning: volatile was removed and now has no effect. Use `with torch.no_grad():` instead.\n",
      "  return Variable(x, volatile=volatile)\n"
     ]
    },
    {
     "name": "stdout",
     "output_type": "stream",
     "text": [
      "Validation: Epoch [10/10], Step [22/22], Loss: 0.342, Perp: 1.41, Acc: 0.93           "
     ]
    }
   ],
   "source": [
    "hist = train(model, trn_ids, val_ids, \n",
    "             criterion, optimizer, scheduler, \n",
    "             10, batch_size, seq_length)"
   ]
  },
  {
   "cell_type": "code",
   "execution_count": 31,
   "metadata": {
    "metadata": {}
   },
   "outputs": [
    {
     "ename": "NameError",
     "evalue": "name 'hist' is not defined",
     "output_type": "error",
     "traceback": [
      "\u001b[0;31m---------------------------------------------------------------------------\u001b[0m",
      "\u001b[0;31mNameError\u001b[0m                                 Traceback (most recent call last)",
      "Cell \u001b[0;32mIn[31], line 1\u001b[0m\n\u001b[0;32m----> 1\u001b[0m plot_loss(\u001b[38;5;241m*\u001b[39m\u001b[43mhist\u001b[49m)\n",
      "\u001b[0;31mNameError\u001b[0m: name 'hist' is not defined"
     ]
    }
   ],
   "source": [
    "plot_loss(*hist)"
   ]
  },
  {
   "cell_type": "code",
   "execution_count": 34,
   "metadata": {
    "collapsed": true,
    "metadata": {}
   },
   "outputs": [],
   "source": [
    "torch.save(model.state_dict(), 'masnavi-lm-char-10-1500-2.pth')"
   ]
  },
  {
   "cell_type": "markdown",
   "metadata": {},
   "source": [
    "### Sampling"
   ]
  },
  {
   "cell_type": "markdown",
   "metadata": {},
   "source": [
    "<h6>Algorithm:</h6>\n",
    "1. **Initialize** the LSTM state (`h`, `c`) with zeros.\n",
    "\n",
    "2. Pick a **random word** from vocabulary as the seed.\n",
    "\n",
    "3. while number of generated samples is less than the desired:\n",
    " \n",
    " 3.1 **Feed** the LSTM using the word generated from previous time-step.\n",
    " \n",
    " 3.2 Perform **forward computations** to create the probabilty distribution vector for vocabularies.\n",
    " \n",
    " 3.3 Pick a **random word** from vocabulary according to the probabilty distribution from LSTM."
   ]
  },
  {
   "cell_type": "code",
   "execution_count": 37,
   "metadata": {
    "collapsed": true,
    "metadata": {}
   },
   "outputs": [],
   "source": [
    "def get_sample(model, sample_len):\n",
    "    model.eval()\n",
    "    sample = ''\n",
    "    state = model.init_hidden(1)\n",
    "\n",
    "    # select a random word id to start sampling\n",
    "    probs = torch.ones(vocab_size)\n",
    "    inp = to_var(torch.multinomial(probs, num_samples=1).unsqueeze(1), volatile=True)\n",
    "\n",
    "    for i in tqdm_notebook(range(sample_len)):\n",
    "        output, state = model(inp, state)\n",
    "\n",
    "        # Sample an id\n",
    "#         pdb.set_trace()\n",
    "        probs = output.squeeze().data.exp().cpu()\n",
    "        char_id = torch.multinomial(probs, 1)[0]\n",
    "\n",
    "        # Feed sampled word id to next time step\n",
    "        inp.data.fill_(char_id)\n",
    "\n",
    "        # write to file\n",
    "        char_id_sample = char_id.item()\n",
    "        sample += corpus.vocabulary.index2word[char_id_sample]\n",
    "    \n",
    "    return sample"
   ]
  },
  {
   "cell_type": "code",
   "execution_count": 38,
   "metadata": {
    "collapsed": true,
    "metadata": {}
   },
   "outputs": [
    {
     "name": "stderr",
     "output_type": "stream",
     "text": [
      "/tmp/ipykernel_1830388/2014688387.py:14: UserWarning: volatile was removed and now has no effect. Use `with torch.no_grad():` instead.\n",
      "  return Variable(x, volatile=volatile)\n",
      "/tmp/ipykernel_1830388/200812823.py:10: TqdmDeprecationWarning: This function will be removed in tqdm==5.0.0\n",
      "Please use `tqdm.notebook.tqdm` instead of `tqdm.tqdm_notebook`\n",
      "  for i in tqdm_notebook(range(sample_len)):\n"
     ]
    },
    {
     "data": {
      "application/vnd.jupyter.widget-view+json": {
       "model_id": "2df1afe61cd24fe894b65a59e4c8a3a5",
       "version_major": 2,
       "version_minor": 0
      },
      "text/plain": [
       "  0%|          | 0/2000 [00:00<?, ?it/s]"
      ]
     },
     "metadata": {},
     "output_type": "display_data"
    },
    {
     "name": "stdout",
     "output_type": "stream",
     "text": [
      "به روی آنها آیند گروهی هم از آشان می‌ترسم.\n",
      "پس همه فرشتگان غذا جهنم را از (دین) خود برگردانیدیم (و به او ایمان آورد) بر شما گواهی می‌دهیم که تو را به رسالت فرستادیم، صالح به قوم خود گفت: به خدا کافر شو؛ پس از آنکه خدا مقام ایمان را آفریده برای شما بیان کردیم، آنان را از او در گذشت که اوست بسیار آمرزنده و مهربانم.\n",
      "و نیز عنوانش به کافران گویند: این وعده قیامت کی خواهد بود اگر می‌خواستیم، همه از تو فرستادیم، آیا بعضی دیگر در زمین بداند مالک و گواه مردم سخت ظرم و سعادت مردم است.\n",
      "و فرعون به سراب آنها (به مکانی) بدین روشنی بیان می‌کند.\n",
      "و آنان که به آیات خدا و شهود لقای او کافر شدند آنها از رحمت (و نعمت بهشت) من ناامیدند و سخت به عذاب دردناک گرفتار خواهند شد.\n",
      "و کافران گفتند: چرا این قرآن برای ما بیاوری که ما را از تعبیر آن آگاه کن، که تو را از دیارشان بیرون کرد و هرگز نقض عیسی نیست، پیش از اینها طفل یکبیده (و ناگاه) به سر نگیری و (در نظر دین) ما فرشتگان را فرستادیم، گفت: ای قوم، این خلاف را چنین احسان بسیار داده‌ایم و با آنان هرگی هستیم تا از جنس بزرگ خود (می‌توانید) صید کنید. و چون ایمان آوردند ما عذاب ذلت را در دنیا از مال خود نفقی دارند به آنان برگرداند و به آنها علم کتاب (احکام شریعت) و حقایق حکمت می‌شماست، و از او در بهشت آن بیشتر مرد و زن مردم (هدایت پذیرفتند و) سخت هراسان بی شیرین سبز گیرد و راه (سعادت) ننماید.\n",
      "و مثل آنان که مالشان را در راه خدا انفاق کنید درباره پیری وادی می‌شود.\n",
      "و یکی از آیات (قدرت) او آنکه آسمان را برافراشت و فرو بارید از آسمان آبی که به سبب آن بیرون آورد میوه‌های گوناگون برای روزی شما، پس کسی را مثل و مانند او قرار ندهید در حالی که مردان و زنان مؤمن حسن ظنّشان درباره یکدیگر بیشتر شده و گویند: این وعده قیامت اگر قابل نیستند که با من جدل و اطاعت می‌کردید و از پی شما آب دریا راه می‌یابید؟ (آن خدایی را تسبیح و ستایش گویید که) زنده را از مرده و مرده را از زنده برانگیزی و به هم در قیامت نمی‌گروند.\n",
      "و شما فریب و دسوی بسیار بد مانه و خوش‌های من صلاح دانیم و هر به ثواب خدا نزدیک نشوید، که زیانکاران عالمند.\n",
      "ای رسول، جز این نبود که گفتار شما را شبانگاه است شش و ریب می‌شوند.\n",
      "چون فرشتگان بر ما نگهبان او (یعنی فرشتگانی که صالح را پنهان می‌داشت در حضور میوه‌ها ب\n"
     ]
    }
   ],
   "source": [
    "sample = get_sample(model, 2000)\n",
    "print(sample)"
   ]
  },
  {
   "cell_type": "code",
   "execution_count": null,
   "metadata": {
    "collapsed": true
   },
   "outputs": [],
   "source": [
    "with open('sample.txt', 'w', encoding='utf8') as f:\n",
    "    f.write(sample)"
   ]
  },
  {
   "cell_type": "markdown",
   "metadata": {
    "heading_collapsed": true
   },
   "source": [
    "## Load a pre-trained Model"
   ]
  },
  {
   "cell_type": "code",
   "execution_count": null,
   "metadata": {
    "collapsed": true,
    "hidden": true
   },
   "outputs": [],
   "source": [
    "model = LSTM_LM(vocab_size, embed_size=1500, hidden_size=1500, num_layers=2)\n",
    "model.load_state_dict(torch.load('masnavi-lm-char-10-1500-2.pth'))\n",
    "if use_gpu:\n",
    "    model = model.cuda()"
   ]
  },
  {
   "cell_type": "code",
   "execution_count": null,
   "metadata": {
    "collapsed": true,
    "hidden": true
   },
   "outputs": [],
   "source": [
    "sample = get_sample(model, 2000)\n",
    "print(sample)"
   ]
  },
  {
   "cell_type": "markdown",
   "metadata": {
    "hidden": true
   },
   "source": [
    "Droput is ineffective for recurrent layers (evantually all hidden units goes to zero)\n",
    "- Easy solution: use dropout only at the input and output of recurrent layers.\n",
    "- Also, it is possible and common to use dropout between recurrent layers at different depths."
   ]
  },
  {
   "cell_type": "markdown",
   "metadata": {
    "hidden": true
   },
   "source": [
    "```python\n",
    "def forward(self, inp, hidden):\n",
    "    # embed word ids to vectors\n",
    "    x = self.embedding(inp)\n",
    "    x = self.dropout(x)  ### DROPOUT ###\n",
    "        \n",
    "    # forward RNN step\n",
    "    x, hidden = self.lstm(x, hidden)\n",
    "    x = self.dropout(x)  ### DROPOUT ###\n",
    "    ...\n",
    "```"
   ]
  },
  {
   "cell_type": "markdown",
   "metadata": {
    "heading_collapsed": true
   },
   "source": [
    "## Other Language Models"
   ]
  },
  {
   "cell_type": "markdown",
   "metadata": {
    "hidden": true
   },
   "source": [
    "- Sub-word level language models\n",
    "- Character level language models"
   ]
  },
  {
   "cell_type": "markdown",
   "metadata": {
    "collapsed": true,
    "heading_collapsed": true
   },
   "source": [
    "## Furthere Reading"
   ]
  },
  {
   "cell_type": "markdown",
   "metadata": {
    "hidden": true
   },
   "source": [
    "- [The Unreasonable Effectiveness of Recurrent Neural Networks](http://karpathy.github.io/2015/05/21/rnn-effectiveness/)\n",
    "- [Oxford Deep NLP 2017 course](https://github.com/oxford-cs-deepnlp-2017/lectures)\n",
    "- [Natural Language Processing with Deep Learning - Stanford](https://youtu.be/OQQ-W_63UgQ)\n",
    "- [Deep Learning Book - Chapter 10](http://www.deeplearningbook.org/contents/rnn.html)"
   ]
  }
 ],
 "metadata": {
  "kernelspec": {
   "display_name": "Python 3 (ipykernel)",
   "language": "python",
   "name": "python3"
  },
  "language_info": {
   "codemirror_mode": {
    "name": "ipython",
    "version": 3
   },
   "file_extension": ".py",
   "mimetype": "text/x-python",
   "name": "python",
   "nbconvert_exporter": "python",
   "pygments_lexer": "ipython3",
   "version": "3.12.2"
  }
 },
 "nbformat": 4,
 "nbformat_minor": 2
}
