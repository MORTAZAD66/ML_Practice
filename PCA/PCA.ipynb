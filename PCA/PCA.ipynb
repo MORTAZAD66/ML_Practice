{
 "cells": [
  {
   "cell_type": "markdown",
   "metadata": {},
   "source": [
    "# A simple numerical example of PCA:"
   ]
  },
  {
   "cell_type": "code",
   "execution_count": 54,
   "metadata": {},
   "outputs": [],
   "source": [
    "import numpy as np\n",
    "from numpy.linalg import svd\n",
    "np.set_printoptions(precision=2)"
   ]
  },
  {
   "cell_type": "markdown",
   "metadata": {},
   "source": [
    "## Step 0: Generating a sample matrix"
   ]
  },
  {
   "cell_type": "code",
   "execution_count": 55,
   "metadata": {},
   "outputs": [],
   "source": [
    "X = np.array([[1, 1, 1, 0, 0], \n",
    "              [2, 2, 2, 0, 0], \n",
    "              [1, 1, 1, 0, 0], \n",
    "              [5, 5, 5, 0, 0], \n",
    "              [1, 1, 0, 2, 2], \n",
    "              [0, 0, 0, 3, 3], \n",
    "              [0, 0, 0, 1, 1]], dtype=np.float32)\n"
   ]
  },
  {
   "cell_type": "markdown",
   "metadata": {},
   "source": [
    "## Step1: Zero-centering data"
   ]
  },
  {
   "cell_type": "code",
   "execution_count": 56,
   "metadata": {},
   "outputs": [
    {
     "name": "stdout",
     "output_type": "stream",
     "text": [
      "mu =  [1.43 1.43 1.29 0.86 0.86]\n",
      "X_norm =\n",
      "[[-0.43 -0.43 -0.29 -0.86 -0.86]\n",
      " [ 0.57  0.57  0.71 -0.86 -0.86]\n",
      " [-0.43 -0.43 -0.29 -0.86 -0.86]\n",
      " [ 3.57  3.57  3.71 -0.86 -0.86]\n",
      " [-0.43 -0.43 -1.29  1.14  1.14]\n",
      " [-1.43 -1.43 -1.29  2.14  2.14]\n",
      " [-1.43 -1.43 -1.29  0.14  0.14]]\n"
     ]
    }
   ],
   "source": [
    "mu = np.mean(X, 0)\n",
    "X_norm = X - mu\n",
    "print('mu = ', mu)\n",
    "print('X_norm =')\n",
    "print(X_norm)"
   ]
  },
  {
   "cell_type": "markdown",
   "metadata": {},
   "source": [
    "## Step2: computing sigma (covariance matrix)"
   ]
  },
  {
   "cell_type": "code",
   "execution_count": 57,
   "metadata": {},
   "outputs": [
    {
     "name": "stdout",
     "output_type": "stream",
     "text": [
      "sigma =\n",
      "[[ 2.53  2.53  2.59 -0.94 -0.94]\n",
      " [ 2.53  2.53  2.59 -0.94 -0.94]\n",
      " [ 2.59  2.59  2.78 -1.1  -1.1 ]\n",
      " [-0.94 -0.94 -1.1   1.27  1.27]\n",
      " [-0.94 -0.94 -1.1   1.27  1.27]]\n"
     ]
    }
   ],
   "source": [
    "m = X_norm.shape[0]\n",
    "sigma = (X_norm.T @ X_norm) / m\n",
    "print('sigma =')\n",
    "print(sigma)"
   ]
  },
  {
   "cell_type": "markdown",
   "metadata": {},
   "source": [
    "## Step3: computing SVD"
   ]
  },
  {
   "cell_type": "code",
   "execution_count": 58,
   "metadata": {},
   "outputs": [
    {
     "name": "stdout",
     "output_type": "stream",
     "text": [
      "U : \n",
      "[[-5.27e-01 -2.45e-01  4.02e-01 -7.07e-01 -7.03e-17]\n",
      " [-5.27e-01 -2.45e-01  4.02e-01  7.07e-01  3.88e-17]\n",
      " [-5.56e-01 -1.46e-01 -8.18e-01  6.91e-15 -7.46e-19]\n",
      " [ 2.59e-01 -6.55e-01 -5.94e-02  6.75e-16 -7.07e-01]\n",
      " [ 2.59e-01 -6.55e-01 -5.94e-02  5.64e-16  7.07e-01]]\n",
      "S : \n",
      "[8.72e+00 1.58e+00 6.69e-02 2.24e-16 0.00e+00]\n"
     ]
    }
   ],
   "source": [
    "U, S, V = svd(sigma)\n",
    "print ('U : ')\n",
    "print (U)\n",
    "print ('S : ')\n",
    "print (S)"
   ]
  },
  {
   "cell_type": "markdown",
   "metadata": {},
   "source": [
    "## Step4: Project data"
   ]
  },
  {
   "cell_type": "code",
   "execution_count": 59,
   "metadata": {},
   "outputs": [
    {
     "name": "stdout",
     "output_type": "stream",
     "text": [
      "[-3.04e-15  3.87e-15 -3.04e-15  2.46e-14 -7.46e-15 -6.22e-15 -8.70e-15]\n"
     ]
    }
   ],
   "source": [
    "X_proj = X_norm @ U[:, 3]\n",
    "print (X_proj)"
   ]
  },
  {
   "cell_type": "markdown",
   "metadata": {},
   "source": [
    "## This is the whol process in a madule:"
   ]
  },
  {
   "cell_type": "code",
   "execution_count": 60,
   "metadata": {},
   "outputs": [],
   "source": [
    "def PCA(X, k=3):\n",
    "    \"\"\" \n",
    "    Arguments:\n",
    "        - X: data matrix - numpy array of shape (m, n)\n",
    "        - k: number of components\n",
    "        \n",
    "    Returns:\n",
    "       - Projection of X into a k-d space of principal components\n",
    "    \n",
    "    \"\"\"\n",
    "    m = X.shape[0]\n",
    "    \n",
    "    Xn = X - X.mean(axis=0)   # STEP 1: zero-center data (remove mean)          \n",
    "    Sigma = (Xn.T @ Xn) / m   # STEP 2: compute covariance matrix\n",
    "    U, S, VT = svd(Sigma)     # STEP 3: Singular Value Decomposition\n",
    "    print ('U : ')\n",
    "    print (U)\n",
    "    print ('S : ')\n",
    "    print (S)\n",
    "    print ('PCA:')\n",
    "    X_proj = Xn @ U[:, :k]    # project data on U\n",
    "    return X_proj"
   ]
  },
  {
   "cell_type": "code",
   "execution_count": 61,
   "metadata": {},
   "outputs": [
    {
     "name": "stdout",
     "output_type": "stream",
     "text": [
      "U : \n",
      "[[-5.27e-01 -2.45e-01  4.02e-01 -7.07e-01 -7.03e-17]\n",
      " [-5.27e-01 -2.45e-01  4.02e-01  7.07e-01  3.88e-17]\n",
      " [-5.56e-01 -1.46e-01 -8.18e-01  6.91e-15 -7.46e-19]\n",
      " [ 2.59e-01 -6.55e-01 -5.94e-02  6.75e-16 -7.07e-01]\n",
      " [ 2.59e-01 -6.55e-01 -5.94e-02  5.64e-16  7.07e-01]]\n",
      "S : \n",
      "[8.72e+00 1.58e+00 6.69e-02 2.24e-16 0.00e+00]\n",
      "PCA:\n",
      "[[ 0.17  1.37 -0.01]\n",
      " [-1.44  0.74 -0.02]\n",
      " [ 0.17  1.37 -0.01]\n",
      " [-6.28 -1.17 -0.06]\n",
      " [ 1.76 -1.1   0.57]\n",
      " [ 3.33 -1.92 -0.35]\n",
      " [ 2.3   0.7  -0.11]]\n"
     ]
    }
   ],
   "source": [
    "X = np.array([[1, 1, 1, 0, 0], \n",
    "              [2, 2, 2, 0, 0], \n",
    "              [1, 1, 1, 0, 0], \n",
    "              [5, 5, 5, 0, 0], \n",
    "              [1, 1, 0, 2, 2], \n",
    "              [0, 0, 0, 3, 3], \n",
    "              [0, 0, 0, 1, 1]], dtype=np.float32)\n",
    "\n",
    "\n",
    "print (PCA(X, 3))"
   ]
  }
 ],
 "metadata": {
  "kernelspec": {
   "display_name": "base",
   "language": "python",
   "name": "python3"
  },
  "language_info": {
   "codemirror_mode": {
    "name": "ipython",
    "version": 3
   },
   "file_extension": ".py",
   "mimetype": "text/x-python",
   "name": "python",
   "nbconvert_exporter": "python",
   "pygments_lexer": "ipython3",
   "version": "3.9.13"
  }
 },
 "nbformat": 4,
 "nbformat_minor": 2
}
